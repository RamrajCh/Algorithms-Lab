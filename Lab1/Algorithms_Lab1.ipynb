{
 "cells": [
  {
   "cell_type": "markdown",
   "metadata": {
    "id": "ua7X4qZ1uQkJ"
   },
   "source": [
    "# Lab 1 - Searching"
   ]
  },
  {
   "cell_type": "markdown",
   "metadata": {},
   "source": [
    "The first lab of Alogrithms and Complexity was implementation of linear and binary search algorithms and finding their time complexity. To do this lab, I have used the python programming language, and I have implemented it on jupyter notebook."
   ]
  },
  {
   "cell_type": "markdown",
   "metadata": {},
   "source": [
    "---"
   ]
  },
  {
   "cell_type": "markdown",
   "metadata": {},
   "source": [
    "# Implementation of Linear and Binary Search"
   ]
  },
  {
   "cell_type": "markdown",
   "metadata": {},
   "source": [
    "The implementation of linear and binary search was done in python3. The library dependencies used for the completion of the lab works are `unittest`, `time` and `matplotlib`.\n",
    "\n",
    "The dependencies are imported as follows."
   ]
  },
  {
   "cell_type": "code",
   "execution_count": 1,
   "metadata": {
    "id": "aHTnVdJp48sZ"
   },
   "outputs": [],
   "source": [
    "import unittest\n",
    "import time\n",
    "import matplotlib.pyplot as plt"
   ]
  },
  {
   "cell_type": "markdown",
   "metadata": {},
   "source": [
    "---"
   ]
  },
  {
   "cell_type": "markdown",
   "metadata": {
    "id": "YWKw5iqeuU6F"
   },
   "source": [
    "## Linear Search"
   ]
  },
  {
   "cell_type": "markdown",
   "metadata": {
    "id": "qUVITtXY0B73"
   },
   "source": [
    "The implementation of linear search is as follows."
   ]
  },
  {
   "cell_type": "code",
   "execution_count": 2,
   "metadata": {
    "id": "dcuGJvDzuSN8"
   },
   "outputs": [],
   "source": [
    "def linear_search(values, target):\n",
    "    for i in range(len(values)):\n",
    "        if target == values[i]:\n",
    "            return i\n",
    "    return -1"
   ]
  },
  {
   "cell_type": "markdown",
   "metadata": {
    "id": "JUMvm8zkB_sd"
   },
   "source": [
    "## Binary Search"
   ]
  },
  {
   "cell_type": "markdown",
   "metadata": {
    "id": "e70xINmCB_sd"
   },
   "source": [
    "The implementation of binary search is"
   ]
  },
  {
   "cell_type": "code",
   "execution_count": 3,
   "metadata": {
    "id": "47YIlEjKB_se"
   },
   "outputs": [],
   "source": [
    "def binary_search(values, start, end, target):\n",
    "    if end < start:\n",
    "        return -1\n",
    "    mid = (start + end) // 2\n",
    "    if target == values[mid]:\n",
    "        return mid\n",
    "    elif target > values[mid]:\n",
    "        return binary_search(values, mid + 1, end, target)\n",
    "    else:\n",
    "        return binary_search(values, start, mid - 1, target)"
   ]
  },
  {
   "cell_type": "markdown",
   "metadata": {},
   "source": [
    "---"
   ]
  },
  {
   "cell_type": "markdown",
   "metadata": {
    "id": "bwITcqd8vJQn"
   },
   "source": [
    "# Test Cases for Linear and Binary Search"
   ]
  },
  {
   "cell_type": "markdown",
   "metadata": {},
   "source": [
    "The `unittest` standard library of python3 was used for testing the binary and linear search functions."
   ]
  },
  {
   "cell_type": "markdown",
   "metadata": {},
   "source": [
    "The test case of **linear search** is as follows:"
   ]
  },
  {
   "cell_type": "code",
   "execution_count": 4,
   "metadata": {
    "colab": {
     "base_uri": "https://localhost:8080/"
    },
    "id": "Qfu1OcNpvINf",
    "outputId": "01e7ca34-75d0-4ac5-b98a-3ed877550fcc"
   },
   "outputs": [],
   "source": [
    "class LinearSearchTest(unittest.TestCase):\n",
    "    def runTest(self):\n",
    "        values = [2,4,1,7,4,9,2,10,21]\n",
    "        self.assertEqual(linear_search(values, 1), 2)\n",
    "        self.assertEqual(linear_search(values, 4), 1)\n",
    "        self.assertEqual(linear_search(values, 40), -1)"
   ]
  },
  {
   "cell_type": "markdown",
   "metadata": {},
   "source": [
    "The test case of **binary search** is as follows:"
   ]
  },
  {
   "cell_type": "code",
   "execution_count": 5,
   "metadata": {
    "colab": {
     "base_uri": "https://localhost:8080/"
    },
    "id": "HGsCk8E6B_sf",
    "outputId": "6760f341-78c6-451b-aac3-42ec3caaafb1"
   },
   "outputs": [],
   "source": [
    "class BinarySearchTest(unittest.TestCase):\n",
    "    def runTest(self):\n",
    "        values = [1,3,5,9,10,30,40,55]\n",
    "        self.assertEqual(binary_search(values, 0, len(values) - 1, 5), 2)\n",
    "        self.assertEqual(binary_search(values, 0, len(values) - 1, 3), 1)\n",
    "        self.assertEqual(binary_search(values, 0, len(values) - 1, 60), -1)"
   ]
  },
  {
   "cell_type": "markdown",
   "metadata": {},
   "source": [
    "To run the test in jupyter notebook, following command is run:"
   ]
  },
  {
   "cell_type": "code",
   "execution_count": 6,
   "metadata": {},
   "outputs": [
    {
     "name": "stderr",
     "output_type": "stream",
     "text": [
      "runTest (__main__.BinarySearchTest) ... ok\n",
      "runTest (__main__.LinearSearchTest) ... ok\n",
      "\n",
      "----------------------------------------------------------------------\n",
      "Ran 2 tests in 0.005s\n",
      "\n",
      "OK\n"
     ]
    },
    {
     "data": {
      "text/plain": [
       "<unittest.main.TestProgram at 0x7f4661c27df0>"
      ]
     },
     "execution_count": 6,
     "metadata": {},
     "output_type": "execute_result"
    }
   ],
   "source": [
    "unittest.main(argv=[''], verbosity=2, exit=False)"
   ]
  },
  {
   "cell_type": "markdown",
   "metadata": {},
   "source": [
    "The output shows that both binary search and linear search's test was **OK**."
   ]
  },
  {
   "cell_type": "markdown",
   "metadata": {},
   "source": [
    "---"
   ]
  },
  {
   "cell_type": "markdown",
   "metadata": {
    "id": "81PXuTyWz-mT"
   },
   "source": [
    "# Time Complexity"
   ]
  },
  {
   "cell_type": "markdown",
   "metadata": {},
   "source": [
    "To find the time complexity, we plot the length of array vs time using `matplotlib` library. \n",
    "\n",
    "In this section, time complexity of best case and worst case of both search algorithms were calculated.\n",
    "\n",
    "To do that, arrays with sizes ranging from 1000 to 100000 (in the interval of 100) were used to perform both the linear and binary search of an element in each array. Time was calculated at the start of calling the search methods and after returning back from the method and append to another array."
   ]
  },
  {
   "cell_type": "code",
   "execution_count": 7,
   "metadata": {
    "id": "ixsvlSWZyCEX"
   },
   "outputs": [],
   "source": [
    "x_axis = range(1000, 100000, 100)"
   ]
  },
  {
   "cell_type": "markdown",
   "metadata": {},
   "source": [
    "## Linear Search"
   ]
  },
  {
   "cell_type": "markdown",
   "metadata": {},
   "source": [
    "The best case and worst case of linear search are as follows."
   ]
  },
  {
   "cell_type": "markdown",
   "metadata": {
    "id": "gX-P6J4t-glf"
   },
   "source": [
    "#### Best Case"
   ]
  },
  {
   "cell_type": "markdown",
   "metadata": {},
   "source": [
    "The best case of linear search is when the `target` is at index 0 of the array."
   ]
  },
  {
   "cell_type": "code",
   "execution_count": 10,
   "metadata": {
    "colab": {
     "base_uri": "https://localhost:8080/",
     "height": 282
    },
    "id": "bt6a5Jxv05D5",
    "outputId": "97e85895-145f-4636-aaa4-adfea7175c6f"
   },
   "outputs": [],
   "source": [
    "y_bt_ls = []\n",
    "for x in x_axis:\n",
    "    values = range(x)\n",
    "    start_time = time.time()\n",
    "    linear_search(values, 0)\n",
    "    end_time = time.time()\n",
    "    y_bt_ls.append((end_time-start_time)*1000*1000)"
   ]
  },
  {
   "cell_type": "markdown",
   "metadata": {
    "id": "tVTxFPR1FYK0"
   },
   "source": [
    "#### Worst Case"
   ]
  },
  {
   "cell_type": "markdown",
   "metadata": {},
   "source": [
    "The worst case of linear search occurs when the `target` is not at all in the array."
   ]
  },
  {
   "cell_type": "code",
   "execution_count": 16,
   "metadata": {
    "id": "mTDwT_H5DW-_"
   },
   "outputs": [],
   "source": [
    "y_wt_ls = []\n",
    "for x in x_axis:\n",
    "    values = range(x)\n",
    "    start_time = time.time()\n",
    "    linear_search(values, x)\n",
    "    end_time = time.time()\n",
    "    y_wt_ls.append((end_time-start_time)*1000*1000)"
   ]
  },
  {
   "cell_type": "markdown",
   "metadata": {},
   "source": [
    "## Binary Search"
   ]
  },
  {
   "cell_type": "markdown",
   "metadata": {
    "id": "fe-230WAB_sj"
   },
   "source": [
    "#### Best Case"
   ]
  },
  {
   "cell_type": "markdown",
   "metadata": {},
   "source": [
    "The best case of binary search is when the searched `target` is at the mid position of the array."
   ]
  },
  {
   "cell_type": "code",
   "execution_count": 17,
   "metadata": {
    "colab": {
     "base_uri": "https://localhost:8080/",
     "height": 282
    },
    "id": "ohHw0TpYB_sk",
    "outputId": "5c4a6f7f-9d1d-4f3f-905d-05c0c81a96b4"
   },
   "outputs": [],
   "source": [
    "y_bt_bs = []\n",
    "for x in x_axis:\n",
    "    values = range(x)\n",
    "    start_time = time.time()\n",
    "    binary_search(values, 0, x - 1, (x - 1)//2)\n",
    "    end_time = time.time()\n",
    "    y_bt_bs.append((end_time-start_time)*1000*1000)"
   ]
  },
  {
   "cell_type": "markdown",
   "metadata": {
    "id": "xlK86TH1B_sl"
   },
   "source": [
    "#### Worst Case"
   ]
  },
  {
   "cell_type": "markdown",
   "metadata": {},
   "source": [
    "The worst case of binary search is when the `target` is not present at all in the array."
   ]
  },
  {
   "cell_type": "code",
   "execution_count": 18,
   "metadata": {
    "colab": {
     "base_uri": "https://localhost:8080/",
     "height": 282
    },
    "id": "tms17C52B_sm",
    "outputId": "56897692-ad0e-4541-afc2-6f67c0a70bff"
   },
   "outputs": [],
   "source": [
    "y_wt_bs = []\n",
    "for x in x_axis:\n",
    "    values = range(x)\n",
    "    start_time = time.time()\n",
    "    binary_search(values, 0, x - 1, x)\n",
    "    end_time = time.time()\n",
    "    y_wt_bs.append((end_time-start_time)*1000*1000)"
   ]
  },
  {
   "cell_type": "markdown",
   "metadata": {},
   "source": [
    "## Plotting Length vs Time"
   ]
  },
  {
   "cell_type": "markdown",
   "metadata": {},
   "source": [
    "Finally, using `matplotlib`, the garph of length of array (n) versus time required are plotted."
   ]
  },
  {
   "cell_type": "code",
   "execution_count": null,
   "metadata": {
    "colab": {
     "base_uri": "https://localhost:8080/",
     "height": 282
    },
    "id": "UYJO6b1eFhLD",
    "outputId": "6b5e072b-cb37-43d0-96b6-15da262c1660"
   },
   "outputs": [],
   "source": [
    "fig, (linear_plt, binary_plt) = plt.subplots(nrows=1, ncols=2)\n",
    "\n",
    "linear_plt.plot(x_axis, y_bt_ls, '.', label='Best Case')\n",
    "linear_plt.plot(x_axis, y_wt_ls, 'x', label='Worst Case')\n",
    "\n",
    "linear_plt.set_xlabel(\"Length of array (n)\")\n",
    "linear_plt.set_ylabel(\"Time (in microseconds)\")\n",
    "linear_plt.set_title(\"Linear Search\")\n",
    "linear_plt.legend()\n",
    "\n",
    "binary_plt.plot(x_axis, y_bt_bs, '.', label='Best Case')\n",
    "binary_plt.plot(x_axis, y_wt_bs, 'x', label='Worst Case')\n",
    "\n",
    "binary_plt.set_xlabel(\"Length of array (n)\")\n",
    "binary_plt.set_ylabel(\"Time (in microseconds)\")\n",
    "binary_plt.set_title(\"Binary Search\")\n",
    "binary_plt.legend()\n",
    "\n",
    "plt.show()"
   ]
  },
  {
   "cell_type": "markdown",
   "metadata": {},
   "source": [
    "From the graph, the time complexity is as follows:"
   ]
  },
  {
   "cell_type": "markdown",
   "metadata": {},
   "source": [
    "|Search Algorithm|Best Case|Worst Case|\n",
    "|---|---|---|\n",
    "|Linear Search| O(1) | O(n) |\n",
    "|Binary Search| O(1) | O(log(n)) |"
   ]
  },
  {
   "cell_type": "markdown",
   "metadata": {},
   "source": [
    "---"
   ]
  }
 ],
 "metadata": {
  "colab": {
   "collapsed_sections": [],
   "name": "Algorithms-Lab1.ipynb",
   "provenance": []
  },
  "kernelspec": {
   "display_name": "Python 3 (ipykernel)",
   "language": "python",
   "name": "python3"
  },
  "language_info": {
   "codemirror_mode": {
    "name": "ipython",
    "version": 3
   },
   "file_extension": ".py",
   "mimetype": "text/x-python",
   "name": "python",
   "nbconvert_exporter": "python",
   "pygments_lexer": "ipython3",
   "version": "3.10.2"
  }
 },
 "nbformat": 4,
 "nbformat_minor": 4
}
