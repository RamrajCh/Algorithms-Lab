{
 "cells": [
  {
   "cell_type": "markdown",
   "metadata": {
    "id": "ua7X4qZ1uQkJ"
   },
   "source": [
    "# Lab 1"
   ]
  },
  {
   "cell_type": "code",
   "execution_count": 1,
   "metadata": {
    "id": "aHTnVdJp48sZ"
   },
   "outputs": [],
   "source": [
    "import unittest\n",
    "import time\n",
    "import matplotlib.pyplot as plt\n",
    "import numpy as np"
   ]
  },
  {
   "cell_type": "markdown",
   "metadata": {},
   "source": [
    "---"
   ]
  },
  {
   "cell_type": "markdown",
   "metadata": {
    "id": "YWKw5iqeuU6F"
   },
   "source": [
    "## Linear Search"
   ]
  },
  {
   "cell_type": "markdown",
   "metadata": {
    "id": "qUVITtXY0B73"
   },
   "source": [
    "### Algorithm"
   ]
  },
  {
   "cell_type": "code",
   "execution_count": 2,
   "metadata": {
    "id": "dcuGJvDzuSN8"
   },
   "outputs": [],
   "source": [
    "def linear_search(values, target):\n",
    "  for i in range(len(values)):\n",
    "    if target == values[i]:\n",
    "      return i\n",
    "  return -1"
   ]
  },
  {
   "cell_type": "markdown",
   "metadata": {
    "id": "bwITcqd8vJQn"
   },
   "source": [
    "### Test"
   ]
  },
  {
   "cell_type": "code",
   "execution_count": 3,
   "metadata": {
    "colab": {
     "base_uri": "https://localhost:8080/"
    },
    "id": "Qfu1OcNpvINf",
    "outputId": "01e7ca34-75d0-4ac5-b98a-3ed877550fcc"
   },
   "outputs": [
    {
     "name": "stderr",
     "output_type": "stream",
     "text": [
      "runTest (__main__.LinearSearchTest) ... ok\n",
      "\n",
      "----------------------------------------------------------------------\n",
      "Ran 1 test in 0.002s\n",
      "\n",
      "OK\n"
     ]
    },
    {
     "data": {
      "text/plain": [
       "<unittest.main.TestProgram at 0x7fe511de7ac0>"
      ]
     },
     "execution_count": 3,
     "metadata": {},
     "output_type": "execute_result"
    }
   ],
   "source": [
    "class LinearSearchTest(unittest.TestCase):\n",
    "  def runTest(self):\n",
    "    values = np.array([2,4,1,7,4,9,2,10,21])\n",
    "    self.assertEqual(linear_search(values, 1), 2)\n",
    "    self.assertEqual(linear_search(values, 4), 1)\n",
    "    self.assertEqual(linear_search(values, 40), -1)\n",
    "\n",
    "unittest.main(argv=[''], verbosity=2, exit=False)"
   ]
  },
  {
   "cell_type": "markdown",
   "metadata": {
    "id": "81PXuTyWz-mT"
   },
   "source": [
    "### Time Complexity"
   ]
  },
  {
   "cell_type": "code",
   "execution_count": 4,
   "metadata": {
    "id": "ixsvlSWZyCEX"
   },
   "outputs": [],
   "source": [
    "x_axis = np.linspace(100, 100000, 100)"
   ]
  },
  {
   "cell_type": "markdown",
   "metadata": {
    "id": "gX-P6J4t-glf"
   },
   "source": [
    "#### Best Case"
   ]
  },
  {
   "cell_type": "code",
   "execution_count": 32,
   "metadata": {
    "colab": {
     "base_uri": "https://localhost:8080/",
     "height": 282
    },
    "id": "bt6a5Jxv05D5",
    "outputId": "97e85895-145f-4636-aaa4-adfea7175c6f"
   },
   "outputs": [],
   "source": [
    "y = []\n",
    "for x in x_axis:\n",
    "  values = np.arange(x)\n",
    "  start_time = time.time()\n",
    "  linear_search(values, 0)\n",
    "  end_time = time.time()\n",
    "  y.append((end_time-start_time)*1000*1000)\n",
    "y_axis_best_case_linear_search = np.array(y)\n"
   ]
  },
  {
   "cell_type": "markdown",
   "metadata": {
    "id": "tVTxFPR1FYK0"
   },
   "source": [
    "#### Worst Case"
   ]
  },
  {
   "cell_type": "code",
   "execution_count": 31,
   "metadata": {
    "id": "mTDwT_H5DW-_"
   },
   "outputs": [],
   "source": [
    "y = []\n",
    "for x in x_axis:\n",
    "  values = np.arange(x)\n",
    "  start_time = time.time()\n",
    "  linear_search(values, values[-1])\n",
    "  end_time = time.time()\n",
    "  y.append((end_time-start_time)*1000*1000)\n",
    "y_axis_worst_case_linear_search = np.array(y)"
   ]
  },
  {
   "cell_type": "markdown",
   "metadata": {},
   "source": [
    "#### Plot"
   ]
  },
  {
   "cell_type": "code",
   "execution_count": 43,
   "metadata": {
    "colab": {
     "base_uri": "https://localhost:8080/",
     "height": 282
    },
    "id": "UYJO6b1eFhLD",
    "outputId": "6b5e072b-cb37-43d0-96b6-15da262c1660"
   },
   "outputs": [
    {
     "data": {
      "text/plain": [
       "<matplotlib.legend.Legend at 0x7fe510af2e90>"
      ]
     },
     "execution_count": 43,
     "metadata": {},
     "output_type": "execute_result"
    },
    {
     "data": {
      "image/png": "[encoded data removed]",
      "text/plain": [
       "<Figure size 432x288 with 1 Axes>"
      ]
     },
     "metadata": {
      "needs_background": "light"
     },
     "output_type": "display_data"
    }
   ],
   "source": [
    "fig, linear_plt = plt.subplots()\n",
    "\n",
    "linear_plt.plot(x_axis, y_axis_best_case_linear_search, '.', label='Best Case')\n",
    "linear_plt.plot(x_axis, y_axis_worst_case_linear_search, 'x', label='Worst Case')\n",
    "\n",
    "linear_plt.set_xlabel(\"Length of array (n)\")\n",
    "linear_plt.set_ylabel(\"Time (in microseconds)\")\n",
    "linear_plt.set_title(\"Linear Search\")\n",
    "linear_plt.legend()\n"
   ]
  },
  {
   "cell_type": "markdown",
   "metadata": {},
   "source": [
    "---"
   ]
  },
  {
   "cell_type": "markdown",
   "metadata": {
    "id": "JUMvm8zkB_sd"
   },
   "source": [
    "## Binary Search"
   ]
  },
  {
   "cell_type": "markdown",
   "metadata": {
    "id": "e70xINmCB_sd"
   },
   "source": [
    "### Algorithm"
   ]
  },
  {
   "cell_type": "code",
   "execution_count": 19,
   "metadata": {
    "id": "47YIlEjKB_se"
   },
   "outputs": [],
   "source": [
    "def binary_search(values, start, end, target):\n",
    "  if end >= start:\n",
    "    mid = int((start + end) // 2)\n",
    "    if target == values[mid]:\n",
    "      return mid\n",
    "    elif target > values[mid]:\n",
    "      return binary_search(values, mid + 1, end, target)\n",
    "    else:\n",
    "      return binary_search(values, start, mid - 1, target)\n",
    "  else:\n",
    "    return -1"
   ]
  },
  {
   "cell_type": "markdown",
   "metadata": {
    "id": "37eDUAaCB_sf"
   },
   "source": [
    "### Test"
   ]
  },
  {
   "cell_type": "code",
   "execution_count": 20,
   "metadata": {
    "colab": {
     "base_uri": "https://localhost:8080/"
    },
    "id": "HGsCk8E6B_sf",
    "outputId": "6760f341-78c6-451b-aac3-42ec3caaafb1"
   },
   "outputs": [
    {
     "name": "stderr",
     "output_type": "stream",
     "text": [
      "runTest (__main__.BinarySearchTest) ... ok\n",
      "runTest (__main__.LinearSearchTest) ... ok\n",
      "\n",
      "----------------------------------------------------------------------\n",
      "Ran 2 tests in 0.006s\n",
      "\n",
      "OK\n"
     ]
    },
    {
     "data": {
      "text/plain": [
       "<unittest.main.TestProgram at 0x7fe510f5c2e0>"
      ]
     },
     "execution_count": 20,
     "metadata": {},
     "output_type": "execute_result"
    }
   ],
   "source": [
    "class BinarySearchTest(unittest.TestCase):\n",
    "  def runTest(self):\n",
    "    values = np.array([1,3,5,9,10,30,40,55])\n",
    "    self.assertEqual(binary_search(values, 0, len(values) - 1, 5), 2)\n",
    "    self.assertEqual(binary_search(values, 0, len(values) - 1, 3), 1)\n",
    "    self.assertEqual(binary_search(values, 0, len(values) - 1, 60), -1)\n",
    "\n",
    "unittest.main(argv=[''], verbosity=2, exit=False)"
   ]
  },
  {
   "cell_type": "markdown",
   "metadata": {
    "id": "kIASnYNsB_si"
   },
   "source": [
    "### Time"
   ]
  },
  {
   "cell_type": "markdown",
   "metadata": {
    "id": "fe-230WAB_sj"
   },
   "source": [
    "#### Best Case"
   ]
  },
  {
   "cell_type": "code",
   "execution_count": 40,
   "metadata": {
    "colab": {
     "base_uri": "https://localhost:8080/",
     "height": 282
    },
    "id": "ohHw0TpYB_sk",
    "outputId": "5c4a6f7f-9d1d-4f3f-905d-05c0c81a96b4"
   },
   "outputs": [],
   "source": [
    "y = []\n",
    "for x in x_axis:\n",
    "  values = np.arange(x)\n",
    "  start_time = time.time()\n",
    "  binary_search(values, 0, len(values)- 1, values[int(len(values)//2)])\n",
    "  end_time = time.time()\n",
    "  y.append((end_time-start_time)*1000*1000)\n",
    "y_axis_best_case_binary_search = np.array(y)"
   ]
  },
  {
   "cell_type": "markdown",
   "metadata": {
    "id": "xlK86TH1B_sl"
   },
   "source": [
    "#### Worst Case"
   ]
  },
  {
   "cell_type": "code",
   "execution_count": 41,
   "metadata": {
    "colab": {
     "base_uri": "https://localhost:8080/",
     "height": 282
    },
    "id": "tms17C52B_sm",
    "outputId": "56897692-ad0e-4541-afc2-6f67c0a70bff"
   },
   "outputs": [],
   "source": [
    "y = []\n",
    "for x in x_axis:\n",
    "  values = np.arange(x)\n",
    "  start_time = time.time()\n",
    "  binary_search(values, 0, len(values) - 1, 99999999999999)\n",
    "  end_time = time.time()\n",
    "  y.append((end_time-start_time)*1000*1000)\n",
    "y_axis_worst_case_binary_search = np.array(y)"
   ]
  },
  {
   "cell_type": "markdown",
   "metadata": {},
   "source": [
    "#### Plot"
   ]
  },
  {
   "cell_type": "code",
   "execution_count": 45,
   "metadata": {},
   "outputs": [
    {
     "data": {
      "text/plain": [
       "<matplotlib.legend.Legend at 0x7fe5109a6b30>"
      ]
     },
     "execution_count": 45,
     "metadata": {},
     "output_type": "execute_result"
    },
    {
     "data": {
      "image/png": "[encoded data removed]",
      "text/plain": [
       "<Figure size 432x288 with 1 Axes>"
      ]
     },
     "metadata": {
      "needs_background": "light"
     },
     "output_type": "display_data"
    }
   ],
   "source": [
    "fig, binary_plt = plt.subplots()\n",
    "\n",
    "binary_plt.plot(x_axis, y_axis_best_case_binary_search, '.', label='Best Case')\n",
    "binary_plt.plot(x_axis, y_axis_worst_case_binary_search, 'x', label='Worst Case')\n",
    "binary_plt.set_xlabel(\"Length of array (n)\")\n",
    "binary_plt.set_ylabel(\"Time (in microseconds)\")\n",
    "binary_plt.set_title(\"Binary Search\")\n",
    "binary_plt.legend()"
   ]
  }
 ],
 "metadata": {
  "colab": {
   "collapsed_sections": [],
   "name": "Algorithms-Lab1.ipynb",
   "provenance": []
  },
  "kernelspec": {
   "display_name": "Python 3 (ipykernel)",
   "language": "python",
   "name": "python3"
  },
  "language_info": {
   "codemirror_mode": {
    "name": "ipython",
    "version": 3
   },
   "file_extension": ".py",
   "mimetype": "text/x-python",
   "name": "python",
   "nbconvert_exporter": "python",
   "pygments_lexer": "ipython3",
   "version": "3.10.2"
  }
 },
 "nbformat": 4,
 "nbformat_minor": 1
}
