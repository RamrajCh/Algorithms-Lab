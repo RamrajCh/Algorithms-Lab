{
 "cells": [
  {
   "cell_type": "markdown",
   "id": "675b65c1-d39c-4dc1-8c66-5fa3dce2961e",
   "metadata": {},
   "source": [
    "# Lab 2 - Sorting"
   ]
  },
  {
   "cell_type": "markdown",
   "id": "13eb64af-bc26-4225-a9cd-ab1e5fdda594",
   "metadata": {},
   "source": [
    "In second lab session, we implement insertion sort and merge sort algorithms using Python programming language. We test our implementations for various arrays using `unittest` library of Python. After testing, we also compute time for arrays of different lengths and plot the graph to analyze the time complexity of these algorithms. To plot the graph, we use `matplotlib` library of Python."
   ]
  },
  {
   "cell_type": "markdown",
   "id": "fd12ff0c-7b34-424f-a8ef-98b12aaf6ac3",
   "metadata": {},
   "source": [
    "---\n",
    "\n",
    "## Implementation of insertion sort and merge sort"
   ]
  },
  {
   "cell_type": "markdown",
   "id": "3e8ec472-f9a3-47b0-8f7a-3ba36e8aebb0",
   "metadata": {},
   "source": [
    "The dependencies are imported as follows:"
   ]
  },
  {
   "cell_type": "code",
   "execution_count": 16,
   "id": "eca860c8-949b-4ff7-8509-88f278a9c122",
   "metadata": {},
   "outputs": [],
   "source": [
    "import unittest\n",
    "import time\n",
    "import matplotlib.pyplot as plt"
   ]
  },
  {
   "cell_type": "markdown",
   "id": "cc15f1bb-a5b9-4740-8484-d524380a2db9",
   "metadata": {},
   "source": [
    "---"
   ]
  },
  {
   "cell_type": "markdown",
   "id": "b9c6ca3b-c6ea-4644-af3c-1ed51ba551bc",
   "metadata": {},
   "source": [
    "### Insertion Sort"
   ]
  },
  {
   "cell_type": "markdown",
   "id": "99344f05-367a-4066-a13f-b382ad234859",
   "metadata": {},
   "source": [
    "The basic idea of inserion sort is that the array is virtually split in two parts: sorted and unsorted part. Values of the unsorted part of array are picked one by one and placd in the correct position of the sorted part.\n",
    "\n",
    "The implementation of insertion sort is"
   ]
  },
  {
   "cell_type": "code",
   "execution_count": 3,
   "id": "72c30e1b-97b8-42bf-9b70-82c1a9f65fd3",
   "metadata": {},
   "outputs": [],
   "source": [
    "def insertion_sort(A:list) -> None:\n",
    "    '''\n",
    "    Pick each value from list A from index j (1...len(A)) and place it in correct position in index [0...j]\n",
    "    '''\n",
    "    \n",
    "    for j in range(1, len(A)):\n",
    "        key = A[j]\n",
    "        i = j - 1\n",
    "        while i >= 0 and A[i] > key:\n",
    "            A[i+1] = A[i]\n",
    "            i = i - 1\n",
    "        A[i+1] = key"
   ]
  },
  {
   "cell_type": "markdown",
   "id": "9fe095f8-1900-4614-b00e-a24e0595cb33",
   "metadata": {},
   "source": [
    "<br/>"
   ]
  },
  {
   "cell_type": "markdown",
   "id": "e1c3ab6f-aa7c-43a0-9faa-0d31431377a8",
   "metadata": {},
   "source": [
    "### Merge Sort"
   ]
  },
  {
   "cell_type": "markdown",
   "id": "2ef4d2e7-c8f3-4448-8e2d-166a69d29fe9",
   "metadata": {},
   "source": [
    "Merge Sort is a <mark> Divide and Conquer algorithm </mark>. In this algorithm , the array are divided into two almost equal halves, call itself for those two halves and merges the two sorted halves.\n",
    "\n",
    "The `merge()` function is used to merge two halves.\n",
    "\n",
    "The implementation of merge sort in python is as follows:"
   ]
  },
  {
   "cell_type": "code",
   "execution_count": 4,
   "id": "3461ccf8-8ad3-4cc6-97ae-3e8bf4fc828a",
   "metadata": {},
   "outputs": [],
   "source": [
    "def merge(A, p, q, r):\n",
    "    '''\n",
    "    Sort and merge two parts of array A\n",
    "    '''\n",
    "    \n",
    "    # Copy data from A in two arrays L and R with values from p to q in L and q+1 to r in R.\n",
    "    L = A[p:q+1]\n",
    "    R = A[q+1:r+1]\n",
    "    \n",
    "    # Initialize two pointers i and j. i points for left array L and j for right array R.\n",
    "    i = j = 0\n",
    "    \n",
    "    # For each position k in array A, find the suitable value from L or R and place it in kth position of A.\n",
    "    for k in range(p, r+1):\n",
    "        # Check if both pointers i and j are less than the length of L and R respectively.\n",
    "        if i < len(L) and j < len(R):\n",
    "            if L[i] < R[j]:\n",
    "                    A[k] = L[i]\n",
    "                    i = i + 1\n",
    "            else:\n",
    "                A[k] = R[j]\n",
    "                j = j + 1\n",
    "        \n",
    "        # Check if pointer i is less than the length of array L.\n",
    "        elif i < len(L):\n",
    "            A[k] = L[i]\n",
    "            i = i + 1\n",
    "            \n",
    "        # heck if pointer  is less than the legth of array R.\n",
    "        elif j < len(R):\n",
    "            A[k] = R[j]\n",
    "            j = j + 1\n"
   ]
  },
  {
   "cell_type": "code",
   "execution_count": 5,
   "id": "38392212-06b8-4544-8ba4-dae679518815",
   "metadata": {},
   "outputs": [],
   "source": [
    "def merge_sort(A,p,r):\n",
    "    '''\n",
    "    Find the mid index of A[p..r] and recursively call itself and finally merge the sorted arrays.\n",
    "    '''\n",
    "    if p < r:\n",
    "        q = (p + r) // 2\n",
    "        merge_sort(A, p, q)\n",
    "        merge_sort(A, q+1, r)\n",
    "        merge(A, p, q, r)"
   ]
  },
  {
   "cell_type": "markdown",
   "id": "c423229b-a15d-4303-9b9a-d09caa1ce50b",
   "metadata": {},
   "source": [
    "---\n",
    "\n",
    "## Test Cases for insertion and merge sort"
   ]
  },
  {
   "cell_type": "markdown",
   "id": "739299a2-82b5-44a7-9541-472e6436988c",
   "metadata": {},
   "source": [
    "The `unittest` standard library of python3 was used for testing the insertion and merge sort functions.\n",
    "\n",
    "The test case of <mark>insertion sort</mark> is as follows:"
   ]
  },
  {
   "cell_type": "code",
   "execution_count": 6,
   "id": "84c0ea54-ffbc-43cc-ba10-7525e345ea52",
   "metadata": {},
   "outputs": [],
   "source": [
    "class InsertionSortTest(unittest.TestCase):\n",
    "    def runTest(self):\n",
    "        A = [2,5,3,1,6,4]   # test for unsorted list\n",
    "        B = [1,2,3,4,5,6]   # test for sorted list\n",
    "        C = [6,5,4,3,2,1]   # test for reverse sorted list\n",
    "\n",
    "        sortList = [1,2,3,4,5,6]\n",
    "        insertion_sort(A)\n",
    "        insertion_sort(B)\n",
    "        insertion_sort(C)\n",
    "        self.assertListEqual(A, sortList)\n",
    "        self.assertListEqual(B, sortList)\n",
    "        self.assertListEqual(C, sortList)"
   ]
  },
  {
   "cell_type": "markdown",
   "id": "97354bd2-219f-4d4d-b7bd-8a34d00c2dc8",
   "metadata": {},
   "source": [
    "The test case of <mark> merge sort </mark> are as follows:"
   ]
  },
  {
   "cell_type": "code",
   "execution_count": 7,
   "id": "4997dfa2-6c79-4463-a082-9f137869aa85",
   "metadata": {},
   "outputs": [],
   "source": [
    "class MergeTest(unittest.TestCase):\n",
    "    def runTest(self):\n",
    "        A = [2,3,5,1,4,6]\n",
    "        B = [1,3,2,4,6,5]\n",
    "        C = [1,3,2,4,6,5]\n",
    "        \n",
    "        merge(A, 0, 2, 5)\n",
    "        merge(B, 0, 1, 3)\n",
    "        merge(C, 4, 4, 5)\n",
    "\n",
    "        self.assertListEqual(A, [1,2,3,4,5,6])\n",
    "        self.assertListEqual(B, [1,2,3,4,6,5])\n",
    "        self.assertListEqual(C, [1,3,2,4,5,6])"
   ]
  },
  {
   "cell_type": "code",
   "execution_count": 8,
   "id": "5cf04b1e-0b9f-493c-8056-8b3e9b0bba2a",
   "metadata": {},
   "outputs": [],
   "source": [
    "class MergeSortTest(unittest.TestCase):\n",
    "    def runTest(self):\n",
    "        A = [2,5,3,1,6,4]   # test for unsorted list\n",
    "        B = [1,2,3,4,5,6]   # test for sorted list\n",
    "        C = [6,5,4,3,2,1]   # test for reverse sorted list\n",
    "\n",
    "        sortList = [1,2,3,4,5,6]\n",
    "        merge_sort(A, 0, 5)\n",
    "        merge_sort(B, 0, 5)\n",
    "        merge_sort(C, 0, 5)\n",
    "\n",
    "        self.assertListEqual(A, sortList)\n",
    "        self.assertListEqual(B, sortList)\n",
    "        self.assertListEqual(C, sortList)"
   ]
  },
  {
   "cell_type": "markdown",
   "id": "f3b97351-5d0a-410b-8ff0-654adb5b45b9",
   "metadata": {},
   "source": [
    "To run the test in jupyter notebook, following command is run:"
   ]
  },
  {
   "cell_type": "code",
   "execution_count": 9,
   "id": "986df2e5-efab-4202-998e-f1f080a7d8ba",
   "metadata": {},
   "outputs": [
    {
     "name": "stderr",
     "output_type": "stream",
     "text": [
      "runTest (__main__.InsertionSortTest) ... ok\n",
      "runTest (__main__.MergeSortTest) ... ok\n",
      "runTest (__main__.MergeTest) ... ok\n",
      "\n",
      "----------------------------------------------------------------------\n",
      "Ran 3 tests in 0.008s\n",
      "\n",
      "OK\n"
     ]
    },
    {
     "data": {
      "text/plain": [
       "<unittest.main.TestProgram at 0x7f8339e8ba30>"
      ]
     },
     "execution_count": 9,
     "metadata": {},
     "output_type": "execute_result"
    }
   ],
   "source": [
    "unittest.main(argv=[''], verbosity=2, exit=False)"
   ]
  },
  {
   "cell_type": "markdown",
   "id": "69451756-43ed-4339-bba1-42f394a3c067",
   "metadata": {},
   "source": [
    "The output shows that the test for both merge and insertion sort is **OK**."
   ]
  },
  {
   "cell_type": "markdown",
   "id": "0736356e-1b5d-48c4-8580-f821e7061358",
   "metadata": {},
   "source": [
    "---"
   ]
  },
  {
   "cell_type": "markdown",
   "id": "b02a25f3-b149-4ffc-bfde-79246b833ea8",
   "metadata": {},
   "source": [
    "## Time Complexity"
   ]
  },
  {
   "cell_type": "markdown",
   "id": "65a2a278-7dc9-4e9f-a0e4-410908373da9",
   "metadata": {},
   "source": [
    "To find the time complexity, we plot the length of array vs time using `matplotlib` library. \n",
    "\n",
    "In this section, time complexity of best case and worst case of both sort algorithms were calculated."
   ]
  },
  {
   "cell_type": "markdown",
   "id": "11b48c0c-c3d4-4915-bfa6-9d30e6df0127",
   "metadata": {},
   "source": [
    "### Insertion Sort"
   ]
  },
  {
   "cell_type": "code",
   "execution_count": 10,
   "id": "a75de38c-0538-47ff-b823-13bd0fb6f914",
   "metadata": {},
   "outputs": [],
   "source": [
    "x_axis_is = range(10, 1000, 10)"
   ]
  },
  {
   "cell_type": "markdown",
   "id": "3b431425-4c5d-42c8-8c76-6bfef2770431",
   "metadata": {},
   "source": [
    "The <mark>best case</mark> of insertion sort occurs when the array is already sorted."
   ]
  },
  {
   "cell_type": "code",
   "execution_count": 18,
   "id": "9ad77507-ffa8-4b5e-b1d2-21383d83d81b",
   "metadata": {},
   "outputs": [],
   "source": [
    "y_is_bc = []\n",
    "for x in x_axis_is:\n",
    "    values = list(range(x))\n",
    "    start_time = time.time()\n",
    "    insertion_sort(values)\n",
    "    end_time = time.time()\n",
    "    y_is_bc.append((end_time-start_time)*10**6)"
   ]
  },
  {
   "cell_type": "markdown",
   "id": "08fd1a59-cce8-4b41-91f4-7a7a9b4e73a6",
   "metadata": {},
   "source": [
    "The <mark>worst case</mark> occurs when the array is sorted in reverse order."
   ]
  },
  {
   "cell_type": "code",
   "execution_count": 19,
   "id": "e9241ca7-8cdf-4efa-9f8b-cfa4418d4fe5",
   "metadata": {},
   "outputs": [],
   "source": [
    "y_is_wc = []\n",
    "for x in x_axis_is:\n",
    "    values = list(reversed(range(x)))\n",
    "    start_time = time.time()\n",
    "    insertion_sort(values)\n",
    "    end_time = time.time()\n",
    "    y_is_wc.append((end_time-start_time)*10**6)"
   ]
  },
  {
   "cell_type": "markdown",
   "id": "c72004f7-73da-48e4-9bdd-ad8e9cf88044",
   "metadata": {},
   "source": [
    "<br/>"
   ]
  },
  {
   "cell_type": "markdown",
   "id": "0ba5246b-3248-483e-9813-3309b97751ad",
   "metadata": {},
   "source": [
    "### Merge Sort"
   ]
  },
  {
   "cell_type": "code",
   "execution_count": 13,
   "id": "8eab7407-f9be-4ce8-9e39-afc2b05fe2a6",
   "metadata": {
    "tags": []
   },
   "outputs": [],
   "source": [
    "x_axis_ms = range(100, 10000, 100)"
   ]
  },
  {
   "cell_type": "code",
   "execution_count": 14,
   "id": "cf557940-0487-4f65-9ed2-b9af083a6c31",
   "metadata": {},
   "outputs": [],
   "source": [
    "y_ms = []\n",
    "for x in x_axis_ms:\n",
    "    values = list(range(x))\n",
    "    start_time = time.time()\n",
    "    merge_sort(values, 0, x-1)\n",
    "    end_time = time.time()\n",
    "    y_ms.append((end_time-start_time)*10**6)"
   ]
  },
  {
   "cell_type": "markdown",
   "id": "d3e90e25-6f25-4475-a253-782f12dff682",
   "metadata": {},
   "source": [
    "___\n",
    "\n",
    "### Plotting Length vs Time"
   ]
  },
  {
   "cell_type": "markdown",
   "id": "5f79b004-3d31-4f87-badf-2a798d1f8a69",
   "metadata": {},
   "source": [
    "Finally, using `matplotlib`, the garph of length of array (n) versus time required are plotted."
   ]
  },
  {
   "cell_type": "code",
   "execution_count": 21,
   "id": "5f2040d6-f893-417a-82eb-74f4f4027ddf",
   "metadata": {},
   "outputs": [
    {
     "data": {
      "image/png": "[encoded data removed]",
      "text/plain": [
       "<Figure size 1440x2160 with 3 Axes>"
      ]
     },
     "metadata": {
      "needs_background": "light"
     },
     "output_type": "display_data"
    }
   ],
   "source": [
    "fig, ax = plt.subplots(nrows=3, figsize=(20,30))\n",
    "\n",
    "ax[0].plot(x_axis_is, y_is_bc, '.', label='Best Case - Insertion Sort')\n",
    "ax[1].plot(x_axis_is, y_is_wc, 'x', label='Worst Case - Insertion Sort')\n",
    "\n",
    "ax[0].set_xlabel(\"Length of array (n)\")\n",
    "ax[0].set_ylabel(\"Time (in microseconds)\")\n",
    "ax[0].set_title(\"Insertion Sort Best Case\")\n",
    "ax[0].legend()\n",
    "\n",
    "ax[1].set_xlabel(\"Length of array (n)\")\n",
    "ax[1].set_ylabel(\"Time (in microseconds)\")\n",
    "ax[1].set_title(\"Insertion Sort Worst Case\")\n",
    "ax[1].legend()\n",
    "\n",
    "ax[2].plot(x_axis_ms, y_ms, '.', label='Merge Sort')\n",
    "# plt4.plot(x_axis_ms, y_ms_wc, 'x', label='Worst Case')\n",
    "\n",
    "ax[2].set_xlabel(\"Length of array (n)\")\n",
    "ax[2].set_ylabel(\"Time (in microseconds)\")\n",
    "ax[2].set_title(\"Merge Sort\")\n",
    "ax[2].legend()\n",
    "\n",
    "\n",
    "plt.show()"
   ]
  },
  {
   "cell_type": "markdown",
   "id": "70822a90-4b21-4dc9-805a-8b2a066b578e",
   "metadata": {},
   "source": [
    "From the above graph, it can be said that the time complexity of the sort algorithms are as listed in table.\n",
    "\n",
    "| Sort Algorithm | Best Case | Worst Case | Average Case |\n",
    "| --- | --- | --- | --- |\n",
    "| Insertion Sort | O(n) | O(n<sup>2</sup>) | O(n<sup>2</sup>) |\n",
    "| Merge Sort | O(nlgn) | O(nlgn) | O(nlgn) |"
   ]
  },
  {
   "cell_type": "markdown",
   "id": "a152b87b-ca21-47a5-851d-cec42edd893d",
   "metadata": {},
   "source": [
    "___"
   ]
  }
 ],
 "metadata": {
  "kernelspec": {
   "display_name": "Python 3 (ipykernel)",
   "language": "python",
   "name": "python3"
  },
  "language_info": {
   "codemirror_mode": {
    "name": "ipython",
    "version": 3
   },
   "file_extension": ".py",
   "mimetype": "text/x-python",
   "name": "python",
   "nbconvert_exporter": "python",
   "pygments_lexer": "ipython3",
   "version": "3.10.2"
  },
  "toc-showcode": false
 },
 "nbformat": 4,
 "nbformat_minor": 5
}
