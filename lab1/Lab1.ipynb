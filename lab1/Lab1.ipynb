{
  "nbformat": 4,
  "nbformat_minor": 0,
  "metadata": {
    "colab": {
      "name": "Algorithms-Lab1.ipynb",
      "provenance": [],
      "collapsed_sections": [],
      "authorship_tag": "ABX9TyOHAHb3wOjWo+xTiT2Bnb9q",
      "include_colab_link": true
    },
    "kernelspec": {
      "name": "python3",
      "display_name": "Python 3"
    },
    "language_info": {
      "name": "python"
    }
  },
  "cells": [
    {
      "cell_type": "markdown",
      "metadata": {
        "id": "view-in-github",
        "colab_type": "text"
      },
      "source": [
        "<a href=\"https://colab.research.google.com/github/RamrajCh/Algorithms-Lab/blob/main/lab1/Lab1.ipynb\" target=\"_parent\"><img src=\"https://colab.research.google.com/assets/colab-badge.svg\" alt=\"Open In Colab\"/></a>"
      ]
    },
    {
      "cell_type": "markdown",
      "source": [
        "# Lab 1"
      ],
      "metadata": {
        "id": "ua7X4qZ1uQkJ"
      }
    },
    {
      "cell_type": "markdown",
      "source": [
        "## Linear Search"
      ],
      "metadata": {
        "id": "YWKw5iqeuU6F"
      }
    },
    {
      "cell_type": "markdown",
      "source": [
        "### Algorithm"
      ],
      "metadata": {
        "id": "qUVITtXY0B73"
      }
    },
    {
      "cell_type": "code",
      "source": [
        "def linear_search(values, target):\n",
        "  for value in values:\n",
        "    if target == value:\n",
        "      return values.index(target)\n",
        "  return -1"
      ],
      "metadata": {
        "id": "dcuGJvDzuSN8"
      },
      "execution_count": 2,
      "outputs": []
    },
    {
      "cell_type": "markdown",
      "source": [
        "### Test"
      ],
      "metadata": {
        "id": "bwITcqd8vJQn"
      }
    },
    {
      "cell_type": "code",
      "source": [
        "import unittest\n",
        "\n",
        "class LinearSearchTest(unittest.TestCase):\n",
        "  def runTest(self):\n",
        "    values = [2,4,1,7,4,9,2,10,21]\n",
        "    self.assertEqual(linear_search(values, 1), 2)\n",
        "    self.assertEqual(linear_search(values, 4), 1)\n",
        "    self.assertEqual(linear_search(values, 40), -1)\n",
        "\n",
        "unittest.main(argv=[''], verbosity=2, exit=False)"
      ],
      "metadata": {
        "colab": {
          "base_uri": "https://localhost:8080/"
        },
        "id": "Qfu1OcNpvINf",
        "outputId": "df09a748-a20a-4e8d-9128-4efc744c8f1d"
      },
      "execution_count": 22,
      "outputs": [
        {
          "output_type": "stream",
          "name": "stderr",
          "text": [
            "runTest (__main__.LinearSearchTest) ... FAIL\n",
            "\n",
            "======================================================================\n",
            "FAIL: runTest (__main__.LinearSearchTest)\n",
            "----------------------------------------------------------------------\n",
            "Traceback (most recent call last):\n",
            "  File \"<ipython-input-22-a23d2ebf0c53>\", line 8, in runTest\n",
            "    self.assertEqual(linear_search(values, 40), 0)\n",
            "AssertionError: -1 != 0\n",
            "\n",
            "----------------------------------------------------------------------\n",
            "Ran 1 test in 0.006s\n",
            "\n",
            "FAILED (failures=1)\n"
          ]
        },
        {
          "output_type": "execute_result",
          "data": {
            "text/plain": [
              "<unittest.main.TestProgram at 0x7f2023b105d0>"
            ]
          },
          "metadata": {},
          "execution_count": 22
        }
      ]
    },
    {
      "cell_type": "markdown",
      "source": [
        "### Time"
      ],
      "metadata": {
        "id": "81PXuTyWz-mT"
      }
    },
    {
      "cell_type": "code",
      "source": [
        "import time\n",
        "import matplotlib"
      ],
      "metadata": {
        "id": "ixsvlSWZyCEX"
      },
      "execution_count": 23,
      "outputs": []
    },
    {
      "cell_type": "code",
      "source": [
        ""
      ],
      "metadata": {
        "id": "bt6a5Jxv05D5"
      },
      "execution_count": null,
      "outputs": []
    }
  ]
}