{
  "nbformat": 4,
  "nbformat_minor": 0,
  "metadata": {
    "colab": {
      "name": "Algorithms-Lab1.ipynb",
      "provenance": [],
      "collapsed_sections": [],
      "authorship_tag": "ABX9TyOlcfMFkBjWbbUBaFQMjKtG",
      "include_colab_link": true
    },
    "kernelspec": {
      "name": "python3",
      "display_name": "Python 3"
    },
    "language_info": {
      "name": "python"
    }
  },
  "cells": [
    {
      "cell_type": "markdown",
      "metadata": {
        "id": "view-in-github",
        "colab_type": "text"
      },
      "source": [
        "<a href=\"https://colab.research.google.com/github/RamrajCh/Algorithms-Lab/blob/main/lab1/Lab1.ipynb\" target=\"_parent\"><img src=\"https://colab.research.google.com/assets/colab-badge.svg\" alt=\"Open In Colab\"/></a>"
      ]
    },
    {
      "cell_type": "markdown",
      "source": [
        "# Lab 1"
      ],
      "metadata": {
        "id": "ua7X4qZ1uQkJ"
      }
    },
    {
      "cell_type": "code",
      "source": [
        "import unittest\n",
        "import time\n",
        "import matplotlib.pyplot as plt\n",
        "import numpy as np"
      ],
      "metadata": {
        "id": "aHTnVdJp48sZ"
      },
      "execution_count": 29,
      "outputs": []
    },
    {
      "cell_type": "markdown",
      "source": [
        "## Linear Search"
      ],
      "metadata": {
        "id": "YWKw5iqeuU6F"
      }
    },
    {
      "cell_type": "markdown",
      "source": [
        "### Algorithm"
      ],
      "metadata": {
        "id": "qUVITtXY0B73"
      }
    },
    {
      "cell_type": "code",
      "source": [
        "def linear_search(values, target):\n",
        "  for i in range(len(values)):\n",
        "    if target == values[i]:\n",
        "      return i\n",
        "  return -1"
      ],
      "metadata": {
        "id": "dcuGJvDzuSN8"
      },
      "execution_count": 26,
      "outputs": []
    },
    {
      "cell_type": "markdown",
      "source": [
        "### Test"
      ],
      "metadata": {
        "id": "bwITcqd8vJQn"
      }
    },
    {
      "cell_type": "code",
      "source": [
        "class LinearSearchTest(unittest.TestCase):\n",
        "  def runTest(self):\n",
        "    values = np.array([2,4,1,7,4,9,2,10,21])\n",
        "    self.assertEqual(linear_search(values, 1), 2)\n",
        "    self.assertEqual(linear_search(values, 4), 1)\n",
        "    self.assertEqual(linear_search(values, 40), -1)\n",
        "\n",
        "unittest.main(argv=[''], verbosity=2, exit=False)"
      ],
      "metadata": {
        "colab": {
          "base_uri": "https://localhost:8080/"
        },
        "id": "Qfu1OcNpvINf",
        "outputId": "272b6f24-8904-4d8a-b6a7-b004fa6a4044"
      },
      "execution_count": 28,
      "outputs": [
        {
          "output_type": "stream",
          "name": "stderr",
          "text": [
            "runTest (__main__.LinearSearchTest) ... ok\n",
            "\n",
            "----------------------------------------------------------------------\n",
            "Ran 1 test in 0.005s\n",
            "\n",
            "OK\n"
          ]
        },
        {
          "output_type": "execute_result",
          "data": {
            "text/plain": [
              "<unittest.main.TestProgram at 0x7f20231c0090>"
            ]
          },
          "metadata": {},
          "execution_count": 28
        }
      ]
    },
    {
      "cell_type": "markdown",
      "source": [
        "### Time"
      ],
      "metadata": {
        "id": "81PXuTyWz-mT"
      }
    },
    {
      "cell_type": "code",
      "source": [
        "x_axis = np.linspace(100, 100000, 100)"
      ],
      "metadata": {
        "id": "ixsvlSWZyCEX"
      },
      "execution_count": 66,
      "outputs": []
    },
    {
      "cell_type": "markdown",
      "source": [
        "#### Best Case"
      ],
      "metadata": {
        "id": "gX-P6J4t-glf"
      }
    },
    {
      "cell_type": "code",
      "source": [
        "np.arange(10)"
      ],
      "metadata": {
        "colab": {
          "base_uri": "https://localhost:8080/"
        },
        "id": "YchSK9Y8_7Z3",
        "outputId": "adc6b090-478c-4f0e-c38b-08fb708e97fb"
      },
      "execution_count": 33,
      "outputs": [
        {
          "output_type": "execute_result",
          "data": {
            "text/plain": [
              "array([0, 1, 2, 3, 4, 5, 6, 7, 8, 9])"
            ]
          },
          "metadata": {},
          "execution_count": 33
        }
      ]
    },
    {
      "cell_type": "code",
      "source": [
        "y = []\n",
        "for x in x_axis:\n",
        "  values = np.arange(x)\n",
        "  start_time = time.time()\n",
        "  linear_search(values, 0)\n",
        "  end_time = time.time()\n",
        "  y.append((end_time-start_time)*1000)\n",
        "y_axis = np.array(y)\n"
      ],
      "metadata": {
        "id": "bt6a5Jxv05D5"
      },
      "execution_count": 71,
      "outputs": []
    },
    {
      "cell_type": "code",
      "source": [
        "p = np.polyfit(x_axis, y_axis, 0)\n",
        "z = np.poly1d(p)\n",
        "plt.plot(x_axis, y_axis, '.')\n",
        "plt.plot(x_axis, z(x_axis))"
      ],
      "metadata": {
        "colab": {
          "base_uri": "https://localhost:8080/",
          "height": 282
        },
        "id": "8tuKiyRHBTXV",
        "outputId": "da38752c-3b2d-4fe1-f7db-7ce7f07ab9d5"
      },
      "execution_count": 76,
      "outputs": [
        {
          "output_type": "execute_result",
          "data": {
            "text/plain": [
              "[<matplotlib.lines.Line2D at 0x7f2023134510>]"
            ]
          },
          "metadata": {},
          "execution_count": 76
        },
        {
          "output_type": "display_data",
          "data": {
            "image/png": "[encoded data removed]",
            "text/plain": [
              "<Figure size 432x288 with 1 Axes>"
            ]
          },
          "metadata": {
            "needs_background": "light"
          }
        }
      ]
    },
    {
      "cell_type": "markdown",
      "source": [
        "#### Worst Case"
      ],
      "metadata": {
        "id": "tVTxFPR1FYK0"
      }
    },
    {
      "cell_type": "code",
      "source": [
        "y = []\n",
        "for x in x_axis:\n",
        "  values = np.arange(x)\n",
        "  start_time = time.time()\n",
        "  linear_search(values, values[-1])\n",
        "  end_time = time.time()\n",
        "  y.append((end_time-start_time)*1000)\n",
        "y_axis = np.array(y)"
      ],
      "metadata": {
        "id": "mTDwT_H5DW-_"
      },
      "execution_count": 77,
      "outputs": []
    },
    {
      "cell_type": "code",
      "source": [
        "p = np.polyfit(x_axis, y_axis, 1)\n",
        "z = np.poly1d(p)\n",
        "plt.plot(x_axis, y_axis, '.')\n",
        "plt.plot(x_axis, z(x_axis))"
      ],
      "metadata": {
        "colab": {
          "base_uri": "https://localhost:8080/",
          "height": 282
        },
        "id": "UYJO6b1eFhLD",
        "outputId": "988ab40a-98a0-4c97-d047-2f6b000bd4db"
      },
      "execution_count": 79,
      "outputs": [
        {
          "output_type": "execute_result",
          "data": {
            "text/plain": [
              "[<matplotlib.lines.Line2D at 0x7f20224f98d0>]"
            ]
          },
          "metadata": {},
          "execution_count": 79
        },
        {
          "output_type": "display_data",
          "data": {
            "image/png": "[encoded data removed]",
            "text/plain": [
              "<Figure size 432x288 with 1 Axes>"
            ]
          },
          "metadata": {
            "needs_background": "light"
          }
        }
      ]
    },
    {
      "cell_type": "code",
      "source": [
        ""
      ],
      "metadata": {
        "id": "o-OUSaSkFjAG"
      },
      "execution_count": null,
      "outputs": []
    }
  ]
}